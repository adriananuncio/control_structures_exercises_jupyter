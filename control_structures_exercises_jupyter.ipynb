{
 "cells": [
  {
   "cell_type": "markdown",
   "id": "70ab22f9",
   "metadata": {},
   "source": [
    "### 1. Conditional Basics\n",
    "\n",
    "#### a. Prompt the user for a day of the week, print out whether the day is Monday or not\n",
    "\n",
    "#### b. Prompt the user for a day of the week, print out whether the day is a weekday or a weekend\n",
    "\n",
    "#### c. Create variables and make up values for\n",
    "    #### i. The number of hours worked in one week\n",
    "    #### ii. The hourly rate\n",
    "    #### iii. How much the week's paycheck will be\n",
    "    #### iv. Write the python code that calculates the weekly paycheck. You get paid time and a half if you work more than 40 hours."
   ]
  },
  {
   "cell_type": "code",
   "execution_count": 18,
   "id": "a2746301",
   "metadata": {},
   "outputs": [
    {
     "name": "stdout",
     "output_type": "stream",
     "text": [
      "What day of the week is today? tuesday\n"
     ]
    }
   ],
   "source": [
    "# a. Prompt the user for a day of the week, \n",
    "## print out whether the day is Monday or not\n",
    "\n",
    "day_of_the_week = input('What day of the week is today? ')"
   ]
  },
  {
   "cell_type": "code",
   "execution_count": 20,
   "id": "26726cad",
   "metadata": {},
   "outputs": [
    {
     "name": "stdout",
     "output_type": "stream",
     "text": [
      "Boo it's not Monday!\n",
      "tuesday\n"
     ]
    }
   ],
   "source": [
    "if day_of_the_week == ('Monday' or 'monday'): \n",
    "    print('Yay it\\'s Monday!') \n",
    "else: print('Boo it\\'s not Monday!')\n",
    "\n",
    "print(day_of_the_week)"
   ]
  },
  {
   "cell_type": "code",
   "execution_count": 21,
   "id": "0a30853d",
   "metadata": {},
   "outputs": [
    {
     "name": "stdout",
     "output_type": "stream",
     "text": [
      "It's not the weekend!\n",
      "tuesday\n"
     ]
    }
   ],
   "source": [
    "# b. Prompt the user for a day of the week, \n",
    "## print out whether the day is a weekday or a weekend\n",
    "\n",
    "if day_of_the_week == ('Saturday' \n",
    "                       or 'saturday' \n",
    "                       or 'Sunday' \n",
    "                       or 'sunday'):\n",
    "        print('It\\'s the weekend!')\n",
    "else: print('It\\'s not the weekend!')\n",
    "    \n",
    "print(day_of_the_week)"
   ]
  },
  {
   "cell_type": "code",
   "execution_count": 164,
   "id": "47e697d7",
   "metadata": {},
   "outputs": [
    {
     "name": "stdout",
     "output_type": "stream",
     "text": [
      "<class 'int'>41\n"
     ]
    }
   ],
   "source": [
    "# c. Create variables and make up values for\n",
    "### The number of hours worked in one week\n",
    "### The hourly rate\n",
    "### How much the week's paycheck will be\n",
    "### Write the python code that calculates the weekly paycheck.\n",
    "####You get paid time and a half if you work more than 40 hours.\n",
    "\n",
    "hourly_pay = 50\n",
    "over_time_pay = hourly_pay * 1.5\n",
    "\n",
    "hours_worked_in_a_week = int(input(int))\n",
    "standard_work_week_hours = 40\n",
    "over_time_hours = hours_worked_in_a_week - standard_work_week_hours\n",
    "\n",
    "regular_paycheck = standard_work_week_hours * hourly_pay\n",
    "over_time_pay = over_time_hours * over_time_pay"
   ]
  },
  {
   "cell_type": "code",
   "execution_count": 165,
   "id": "99f2fa11",
   "metadata": {},
   "outputs": [
    {
     "name": "stdout",
     "output_type": "stream",
     "text": [
      "2075.0\n"
     ]
    }
   ],
   "source": [
    "paycheck = (hourly_pay * hours_worked_in_a_week)\n",
    "\n",
    "if hours_worked_in_a_week > standard_work_week_hours:\n",
    "    over_time_paycheck = regular_paycheck + over_time_pay\n",
    "    print(over_time_paycheck)\n",
    "else:\n",
    "    print(paycheck)"
   ]
  },
  {
   "cell_type": "code",
   "execution_count": null,
   "id": "3bd2e4f3",
   "metadata": {},
   "outputs": [],
   "source": []
  }
 ],
 "metadata": {
  "kernelspec": {
   "display_name": "Python 3 (ipykernel)",
   "language": "python",
   "name": "python3"
  },
  "language_info": {
   "codemirror_mode": {
    "name": "ipython",
    "version": 3
   },
   "file_extension": ".py",
   "mimetype": "text/x-python",
   "name": "python",
   "nbconvert_exporter": "python",
   "pygments_lexer": "ipython3",
   "version": "3.9.13"
  }
 },
 "nbformat": 4,
 "nbformat_minor": 5
}
